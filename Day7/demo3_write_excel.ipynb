{
 "cells": [
  {
   "cell_type": "code",
   "execution_count": 1,
   "id": "7e5c858e-6c9f-42fa-b304-d85de80afe21",
   "metadata": {},
   "outputs": [
    {
     "name": "stdout",
     "output_type": "stream",
     "text": [
      "Collecting openpyxl\n",
      "  Downloading openpyxl-3.1.2-py2.py3-none-any.whl (249 kB)\n",
      "     ---------------------------------------- 0.0/250.0 kB ? eta -:--:--\n",
      "     - -------------------------------------- 10.2/250.0 kB ? eta -:--:--\n",
      "     ---- ------------------------------- 30.7/250.0 kB 445.2 kB/s eta 0:00:01\n",
      "     ------------- ---------------------- 92.2/250.0 kB 655.4 kB/s eta 0:00:01\n",
      "     --------------------- ------------- 153.6/250.0 kB 838.4 kB/s eta 0:00:01\n",
      "     ------------------------------------- 250.0/250.0 kB 1.1 MB/s eta 0:00:00\n",
      "Collecting et-xmlfile (from openpyxl)\n",
      "  Downloading et_xmlfile-1.1.0-py3-none-any.whl (4.7 kB)\n",
      "Installing collected packages: et-xmlfile, openpyxl\n",
      "Successfully installed et-xmlfile-1.1.0 openpyxl-3.1.2\n"
     ]
    }
   ],
   "source": [
    "!pip install openpyxl"
   ]
  },
  {
   "cell_type": "code",
   "execution_count": 2,
   "id": "897e9134-1c15-41f0-aad2-e1c34e908d26",
   "metadata": {},
   "outputs": [],
   "source": [
    "import openpyxl"
   ]
  },
  {
   "cell_type": "code",
   "execution_count": 8,
   "id": "c90ef6af-058b-4cd8-b938-fb398c54a920",
   "metadata": {},
   "outputs": [],
   "source": [
    "wb = openpyxl.Workbook()"
   ]
  },
  {
   "cell_type": "code",
   "execution_count": 9,
   "id": "d91e76cf-f41d-4d13-8c8a-196bf4d14d0c",
   "metadata": {},
   "outputs": [],
   "source": [
    "ws = wb.active"
   ]
  },
  {
   "cell_type": "code",
   "execution_count": 10,
   "id": "01f80c27-84f1-4bb8-afbc-a62304999184",
   "metadata": {},
   "outputs": [],
   "source": [
    "ws['A1'] = 42"
   ]
  },
  {
   "cell_type": "code",
   "execution_count": 12,
   "id": "abfcdf94-6b10-4339-8d08-25cb67680a28",
   "metadata": {},
   "outputs": [],
   "source": [
    "wb.save(\"first.xlsx\")\n"
   ]
  },
  {
   "cell_type": "code",
   "execution_count": 13,
   "id": "2bbfed11-6ebf-41fa-95de-1bd706dc9291",
   "metadata": {},
   "outputs": [],
   "source": [
    "import datetime"
   ]
  },
  {
   "cell_type": "code",
   "execution_count": 14,
   "id": "efac6eba-c6f3-410a-be49-b660a51d7bbf",
   "metadata": {},
   "outputs": [],
   "source": [
    "ws['A2'] = datetime.datetime.now()"
   ]
  },
  {
   "cell_type": "code",
   "execution_count": 15,
   "id": "dcd1ba1c-282e-43fc-92de-37026fa59de5",
   "metadata": {},
   "outputs": [
    {
     "data": {
      "text/plain": [
       "datetime.datetime(2024, 2, 3, 18, 31, 9, 67497)"
      ]
     },
     "execution_count": 15,
     "metadata": {},
     "output_type": "execute_result"
    }
   ],
   "source": [
    "ws['A2'].value"
   ]
  },
  {
   "cell_type": "code",
   "execution_count": 16,
   "id": "22964931-4af1-4ca6-8039-a5442c95177a",
   "metadata": {},
   "outputs": [],
   "source": [
    "wb.save(\"second.xlsx\")"
   ]
  },
  {
   "cell_type": "code",
   "execution_count": 17,
   "id": "a38f6677-ecbb-490c-a301-83f0b886943c",
   "metadata": {},
   "outputs": [
    {
     "data": {
      "text/plain": [
       "13.0"
      ]
     },
     "execution_count": 17,
     "metadata": {},
     "output_type": "execute_result"
    }
   ],
   "source": [
    "ws.column_dimensions['A'].width "
   ]
  },
  {
   "cell_type": "code",
   "execution_count": 19,
   "id": "3d659377-31d9-46cc-8170-75d026b412e9",
   "metadata": {},
   "outputs": [],
   "source": [
    "ws.column_dimensions['A'].width = 20.0"
   ]
  },
  {
   "cell_type": "code",
   "execution_count": 20,
   "id": "bdaf6280-ba19-4216-8cee-7f8bed01c041",
   "metadata": {},
   "outputs": [],
   "source": [
    "wb.save(\"third.xlsx\")"
   ]
  },
  {
   "cell_type": "code",
   "execution_count": null,
   "id": "a250b66b-8b78-4a79-9e00-a702dc565db4",
   "metadata": {},
   "outputs": [],
   "source": []
  }
 ],
 "metadata": {
  "kernelspec": {
   "display_name": "Python 3 (ipykernel)",
   "language": "python",
   "name": "python3"
  },
  "language_info": {
   "codemirror_mode": {
    "name": "ipython",
    "version": 3
   },
   "file_extension": ".py",
   "mimetype": "text/x-python",
   "name": "python",
   "nbconvert_exporter": "python",
   "pygments_lexer": "ipython3",
   "version": "3.12.0"
  }
 },
 "nbformat": 4,
 "nbformat_minor": 5
}
